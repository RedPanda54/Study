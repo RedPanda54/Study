{
  "nbformat": 4,
  "nbformat_minor": 0,
  "metadata": {
    "colab": {
      "provenance": []
    },
    "kernelspec": {
      "name": "python3",
      "display_name": "Python 3"
    },
    "language_info": {
      "name": "python"
    }
  },
  "cells": [
    {
      "cell_type": "markdown",
      "source": [
        "# **Stack, Queue, Dequeue**\n",
        "\n",
        "*   데이터 값을 저장하는 기본적인 구조, 일차원 선형 자료구조\n",
        "*   **규칙에 맞춰** 값을 리스트에 저장하고 꺼내는 연산\n",
        "\n",
        "> **Stack (Last in First out)** : 가장 최근에 저장된 값이 가장 먼저 나간다.\n",
        "\n",
        "> **Queue (First in First out)** : 가장 먼저 저장된 값이 가장 먼저 나간다.\n",
        "\n",
        "> **Dequeue (Stack + Queue)** : stack과 queue의 연산을 모두 지원하는 자료구조.\n",
        "\n",
        "\n",
        "\n",
        "\n",
        "\n",
        "\n",
        "\n",
        "\n"
      ],
      "metadata": {
        "id": "LU7c6dFJ0BXw"
      }
    },
    {
      "cell_type": "markdown",
      "source": [
        "## **Stack**\n",
        "\n",
        "\n",
        "1.  **Last in First out**의 규칙을 따르는 리스트의 형태\n",
        "2.   연산: push, pop, top, isEmpty, size(len) 등 5가지 연산 제공![img.png](data:image/png;base64,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)"
      ],
      "metadata": {
        "id": "Gaz2IoQx1VMd"
      }
    },
    {
      "cell_type": "markdown",
      "source": [
        "**기본 세팅**"
      ],
      "metadata": {
        "id": "-XrxQjOZ1ySf"
      }
    },
    {
      "cell_type": "code",
      "source": [
        "# stack_queue.py\n",
        "class Stack:\n",
        "\n",
        "    # 데이터 저장을 위한 빈 리스트를 준비\n",
        "    def __init__(self):\n",
        "        self.items = []\n",
        "\n",
        "    # 삽입 연산\n",
        "    def push(self, val):\n",
        "        self.items.append(val)\n",
        "\n",
        "    # 삭제 연산\n",
        "    def pop(self):\n",
        "        try:\n",
        "            return self.items.pop()\n",
        "        except IndexError:\n",
        "            print(\"Stack is empty\")\n",
        "\n",
        "    # 가장 최근에 저장된 값\n",
        "    def top(self):\n",
        "        try:\n",
        "            return self.items[-1]\n",
        "        except IndexError:\n",
        "            print(\"Stack is empty\")\n",
        "\n",
        "    # stack의 길이(len)\n",
        "    def __len__(self):\n",
        "        return len(self.items)\n",
        "\n",
        "    # 비어있는지에 대한 여부\n",
        "    def isEmpty(self):\n",
        "        return len(self) == 0\n"
      ],
      "metadata": {
        "id": "uI022pIs1zRx"
      },
      "execution_count": 4,
      "outputs": []
    },
    {
      "cell_type": "markdown",
      "source": [
        "**엄밀한 세팅(최대 크기를 정해둔 리스트)**"
      ],
      "metadata": {
        "id": "k-XNioH644pU"
      }
    },
    {
      "cell_type": "code",
      "source": [
        "class Stack:\n",
        "    def __init__(self, max_size):\n",
        "        self.items = [None] * max_size # 사이즈를 미리 선언\n",
        "        self.idx = -1\n",
        "\n",
        "    def push(self, val):\n",
        "        if self.idx+1 == len(self):\n",
        "            print(\"Stack is full\")\n",
        "            return\n",
        "        self.idx += 1\n",
        "        self.items[self.idx] = val\n",
        "\n",
        "    def pop(self, val):\n",
        "        if self.idx == -1:\n",
        "            print(\"Stack is empty\")\n",
        "            return None\n",
        "        top_item = self.items[self.idx]\n",
        "        self.idx -= 1\n",
        "        return top_item\n",
        "\n",
        "    def top(self):\n",
        "        if self.idx == -1:\n",
        "            print(\"Stack is empty\")\n",
        "            return None\n",
        "        try:\n",
        "            return self.items[-1]\n",
        "        except IndexError:\n",
        "            print(\"Stack is empty\")\n",
        "\n",
        "    def __len__(self):\n",
        "        return len(self.items)\n",
        "\n",
        "    def isEmpty(self):\n",
        "        return len(self) == 0\n"
      ],
      "metadata": {
        "id": "EDhV0Suv4-Hf"
      },
      "execution_count": null,
      "outputs": []
    },
    {
      "cell_type": "markdown",
      "source": [
        "### **Stack 활용 - 괄호맞추기**\n",
        "\n",
        "1.   \"(\"과 \")\"를 입력값에 넣는다.\n",
        "2.   입력된 순서대로 스택 리스트에 넣는다.\n",
        "3.   이미 들어있는 \"(\"이 새롭게 들어온 \")\"를 만나면 규칙에 따라 들어온 순서대로 삭제된다.\n",
        "4.   입력값이 끝날때까지 반복한다.\n",
        "\n",
        "*   ✅ 괄호가 남아있지 않다면 성공\n",
        "*   ❌ 괄호가 하나라도 있다면 실패\n",
        "\n",
        "\n",
        "조금 버전을 높여서 \"[\", \"{\"도 같이 짝맞추기가 가능하다.\n",
        "\n",
        "\n"
      ],
      "metadata": {
        "id": "2yCBmR22t9wo"
      }
    },
    {
      "cell_type": "code",
      "execution_count": 6,
      "metadata": {
        "colab": {
          "base_uri": "https://localhost:8080/"
        },
        "id": "mWMY0YXktlAZ",
        "outputId": "25d4f1dd-04bc-4687-aec6-736e5b57a52d"
      },
      "outputs": [
        {
          "output_type": "stream",
          "name": "stdout",
          "text": [
            "(()())\n",
            "True\n"
          ]
        }
      ],
      "source": [
        "# parChecker\n",
        "def parChecker(parSeq):\n",
        "\ts = Stack()\n",
        "\tfor item in parSeq:\n",
        "        # \"(\"을 만나면 push\n",
        "\t\tif item == \"(\":\n",
        "\t\t\ts.push(item)\n",
        "        # \")\"를 만났을 때 저장된 \"(\"를 pop\n",
        "\t\telse:\n",
        "\t\t\tif s.isEmpty() == True:\n",
        "\t\t\t\treturn False\n",
        "\t\t\telse:\n",
        "\t\t\t\ts.pop()\n",
        "\n",
        "    # 저장된 값이 없다면 True\n",
        "\tif s.isEmpty() == True:\n",
        "\t\tprint(True)\n",
        "\n",
        "    # 저장된 값이 있다면 False\n",
        "\telse:\n",
        "\t\tprint(False)\n",
        "\n",
        "parSeq = list(input())\n",
        "parChecker(parSeq)"
      ]
    },
    {
      "cell_type": "markdown",
      "source": [
        "### **Stack 활용 - 계산기**\n",
        "\n",
        "세 가지 함수가 사용된다.\n",
        "\n",
        "**1.   get_token_list(expr)**\n",
        "\n",
        "*   expr : 문자열로 수식을 나타낸다.\n",
        "*   expr을 **연산자와 피연산자 토큰들로 나눠** 리스트에 담아 리턴\n",
        "*   ❗ 연산자는 [+ - * / ^]의 5가지 이상 연산자만을 다루며 expr에는 공백이 존재할 수도 있다.\n",
        "*   ❗ 피연산자는 float로 변환한다.\n",
        "*   ❗ 피연산자가 한 자릿수가 아닐수도 있다.\n",
        "\n",
        "\n",
        "\n",
        "**2.   infix_to_postfix(token_list)**\n",
        "\n",
        "*   token_list : 수식의 연산자 피연산자가 infix 수식의 순서대로 저장된 리스트\n",
        "*   token_list를 postfix 수식으로 변환하고 그 결과를 리스트에 담아 리턴\n",
        "\n",
        "\n",
        "\n",
        "**3.   compute_postfix(token_list)**\n",
        "\n",
        "*   postfix 형식의 token_list에 대해 계산\n",
        "\n",
        "\n",
        "> ❗ 코드 작성자가 만들때 어려워해서 좀 복잡하게 되어있습니당...\n",
        "\n",
        "\n",
        "\n"
      ],
      "metadata": {
        "id": "S1ES50l5uk64"
      }
    },
    {
      "cell_type": "code",
      "source": [
        "# Separate\n",
        "def get_token_list(expr):\n",
        "\tour_expr = list(expr)         # 입력받은 expr를 리스트에 넣는다.\n",
        "\tinfix = []\n",
        "\tnumbers = list('0123456789.') # 피연산자 리스트 (소수점 포함)\n",
        "\tpossible = list('+-*/^() ')   # 피연산자를 제외하고 가능한 문자 리스트 (연산자, 괄호, 공백)\n",
        "\n",
        "\ti = 0\n",
        "\twhile i < len(our_expr):\n",
        "\t\tj = 1\n",
        "\n",
        "        # 현재 index는 피연산자이다.\n",
        "\t\tif our_expr[i] in numbers:\n",
        "\t\t\twhile i + j < len(our_expr):\n",
        "\t\t\t\t# 다음 index가 피연산자라면 묶는다.\n",
        "\t\t\t\tif our_expr[i + j] in numbers:\n",
        "\t\t\t\t\tj += 1\n",
        "\n",
        "\t\t\t\t# 다음 index가 피연산자가 아니라면 묶지 않는다.\n",
        "\t\t\t\telse:\n",
        "\t\t\t\t\tbreak\n",
        "\n",
        "\t\t\t# 연산자 이전의 피연산자 전체를 묶음 처리해주고 해당 문자를 infix에 넣는다.\n",
        "\t\t\tinfix.append(''.join(our_expr[i:i + j]))\n",
        "\t\t\ti += j\n",
        "\n",
        "        # 현재 index는 피연산자가 아니다.\n",
        "\t\telse:\n",
        "\t\t\t# 쓸 수 있는 문자는 infix에 넣어준다.\n",
        "\t\t\tif our_expr[i] in possible:\n",
        "\t\t\t\tinfix.append(our_expr[i])\n",
        "\t\t\t\ti += 1\n",
        "\t\t\t# 쓰지 못하는 문자는 걸러낸다.\n",
        "\t\t\telse:\n",
        "\t\t\t\tprint(our_expr[i], \"은(는) 올바르지 못한 기호입니다.\")\n",
        "\t\t\t\ti += 1\n",
        "\t\t\t\texit()\n",
        "\treturn infix\n",
        "\n",
        "\n",
        "# from infix to postfix\n",
        "def infix_to_postfix(infix):\n",
        "\topstack = Stack() # 연산자 구분을 위해 Stack 선언\n",
        "\toutstack = []     # postfix가 되어줄 리스트\n",
        "\n",
        "\t# 연산자의 우선순위 설정\n",
        "\tprec = {'(':0, ')':0, '+':1, '-':1, '*':2, '/':2, '^':3}\n",
        "\n",
        "\tfor token in infix:\n",
        "\t\tif token == '(':\n",
        "\t\t\topstack.push(token)\n",
        "\t\telif token == ')':\n",
        "\t\t\twhile opstack.top() != '(': # '('를 만날 때까지 opstack에서 연산자를 outstack으로 옮긴다.\n",
        "\t\t\t\toutstack.append(opstack.pop())\n",
        "\t\t\topstack.pop()\n",
        "\t\telif token in '+-/*^':\n",
        "\t\t\twhile opstack.isEmpty() != True:\n",
        "\t\t\t\tif prec[opstack.top()] >= prec[token]: # 우선 순위에 맞춰 처리된다.\n",
        "\t\t\t\t\toutstack.append(opstack.pop())\n",
        "\t\t\t\telse:\n",
        "\t\t\t\t\tbreak\n",
        "\t\t\topstack.push(token)\n",
        "\t\telse: # 피연산자와 공백은 그대로 outstack에 넣는다.\n",
        "\t\t\toutstack.append(token)\n",
        "\n",
        "\t# opstack에 남은 모든 연산자는 지우고 차례대로 outstack에 넣는다.\n",
        "\twhile opstack.isEmpty() != True:\n",
        "\t\toutstack.append(opstack.pop())\n",
        "\treturn outstack\n",
        "\n",
        "# postfix 수식 계산 함수\n",
        "def compute_postfix(postfix):\n",
        "\tprocess = Stack()\n",
        "\n",
        "\tfor token in postfix:\n",
        "\t\tnum1 = 0\n",
        "\t\tnum2 = 0\n",
        "\n",
        "        # 공백이면 무시한다.\n",
        "\t\tif token == ' ':\n",
        "\t\t\tcontinue\n",
        "\n",
        "        # 공백이 아니라면\n",
        "\t\telse:\n",
        "\t\t\tprocess.push(token)             # Stack에 넣어준다.\n",
        "\t\t\tif token == '+':                # '+'의 경우\n",
        "\t\t\t\tprocess.pop()               # '+'를 지운다.\n",
        "\t\t\t\tnum1 = float(process.pop()) # '+'이전의 피연산자 문자를 실수화 시킨다.\n",
        "\t\t\t\tnum2 = float(process.pop())\n",
        "\t\t\t\tprocess.push(num2 + num1)   # 계산한다.\n",
        "\t\t\telif token == '-':              # 반복\n",
        "\t\t\t\tprocess.pop()\n",
        "\t\t\t\tnum1 = float(process.pop())\n",
        "\t\t\t\tnum2 = float(process.pop())\n",
        "\t\t\t\tprocess.push(num2 - num1)\n",
        "\t\t\telif token == '*':\n",
        "\t\t\t\tprocess.pop()\n",
        "\t\t\t\tnum1 = float(process.pop())\n",
        "\t\t\t\tnum2 = float(process.pop())\n",
        "\t\t\t\tprocess.push(num2 * num1)\n",
        "\t\t\telif token == '/':\n",
        "\t\t\t\tprocess.pop()\n",
        "\t\t\t\tnum1 = float(process.pop())\n",
        "\t\t\t\tnum2 = float(process.pop())\n",
        "\t\t\t\tprocess.push(num2 / num1)\n",
        "\t\t\telif token == '^':\n",
        "\t\t\t\tprocess.pop()\n",
        "\t\t\t\tnum1 = float(process.pop())\n",
        "\t\t\t\tnum2 = float(process.pop())\n",
        "\t\t\t\tprocess.push(num2 ** num1)\n",
        "\treturn process.pop() # 최종적으로 Stack에 남아있는 정답을 return\n",
        "\n",
        "expr = input()\n",
        "value = compute_postfix(infix_to_postfix(get_token_list(expr)))\n",
        "print(round(value,4))"
      ],
      "metadata": {
        "colab": {
          "base_uri": "https://localhost:8080/"
        },
        "id": "KLk0pM7it3kT",
        "outputId": "64dd4da1-7da5-425c-f53b-e6eb971d566d"
      },
      "execution_count": 7,
      "outputs": [
        {
          "output_type": "stream",
          "name": "stdout",
          "text": [
            "1+3* 5.2/2\n",
            "8.8\n"
          ]
        }
      ]
    },
    {
      "cell_type": "markdown",
      "source": [
        "**대표 답안**"
      ],
      "metadata": {
        "id": "n61w3BOwyfS0"
      }
    },
    {
      "cell_type": "code",
      "source": [
        "def get_token_list(expr):\n",
        "\texpr = expr.replace(' ', '')\n",
        "\tch = ''\n",
        "\ttoken_list = []\n",
        "\tfor s in expr:\n",
        "\t\tif s in '+-*/^()':\n",
        "\t\t\tif ch != '':\n",
        "\t\t\t\ttoken_list.append(ch)\n",
        "\t\t\ttoken_list.append(s)\n",
        "\t\t\tch = ''\n",
        "\t\telse:\n",
        "\t\t\tch += s\n",
        "\tif ch != '':\n",
        "\t\ttoken_list.append(ch)\n",
        "\treturn token_list\n",
        "\n",
        "\n",
        "def infix_to_postfix(token_list):\n",
        "\topstack = Stack()\n",
        "\toutstack = []\n",
        "\tprec = {'+':3, '-':3, '*':2, '/':2, '^':1, '(':4}\n",
        "\tfor token in token_list:\n",
        "\t\tif (token in '+-*/^()') == False:\n",
        "\t\t\toutstack.append(token)\n",
        "\t\telif token == '(':\n",
        "\t\t\topstack.push(token)\n",
        "\t\telif token == ')':\n",
        "\t\t\twhile len(opstack) != 0:\n",
        "\t\t\t\tpop = opstack.pop()\n",
        "\t\t\t\tif pop == '(':\n",
        "\t\t\t\t\tbreak\n",
        "\t\t\t\toutstack.append(pop)\n",
        "\t\telif token in '+-*/^':\n",
        "\t\t\twhile len(opstack) != 0:\n",
        "\t\t\t\tif prec[token] >= prec[opstack.top()]:   # 자신보다 우선순위가 높거나 같은 연산자는 차례대로 pop\n",
        "\t\t\t\t\toutstack.append(opstack.pop())\n",
        "\t\t\t\telse:\n",
        "\t\t\t\t\tbreak\n",
        "\t\t\topstack.push(token)\n",
        "\n",
        "\twhile len(opstack) != 0:\n",
        "\t\toutstack.append(opstack.pop())\n",
        "\treturn outstack\n",
        "\n",
        "def compute_postfix(token_list):\n",
        "\tnumbers = Stack()\n",
        "\tresult = 0\n",
        "\tfor token in token_list:\n",
        "\t\tif token in '+-*/^':\n",
        "\t\t\tb, a = numbers.pop(), numbers.pop()\n",
        "\t\t\tif token == '+':\n",
        "\t\t\t\tnumbers.push(a + b)\n",
        "\t\t\telif token == '-':\n",
        "\t\t\t\tnumbers.push(a - b)\n",
        "\t\t\telif token == '*':\n",
        "\t\t\t\tnumbers.push(a * b)\n",
        "\t\t\telif token == '/':\n",
        "\t\t\t\tnumbers.push(a / b)\n",
        "\t\t\telif token == '^':\n",
        "\t\t\t\tnumbers.push(a ** b)\n",
        "\t\telse:\n",
        "\t\t\tnumbers.push(float(token))\n",
        "\treturn numbers.pop()\n",
        "\n",
        "expr = input()\n",
        "value = compute_postfix(infix_to_postfix(get_token_list(expr)))\n",
        "print(round(value,4))"
      ],
      "metadata": {
        "colab": {
          "base_uri": "https://localhost:8080/"
        },
        "id": "t_goiXgfyd9R",
        "outputId": "251e3354-12b8-4f25-91a2-b8671095c54a"
      },
      "execution_count": 8,
      "outputs": [
        {
          "output_type": "stream",
          "name": "stdout",
          "text": [
            "(1+2) *6/5\n",
            "3.6\n"
          ]
        }
      ]
    },
    {
      "cell_type": "markdown",
      "source": [
        "## **Queue**\n",
        "\n",
        "1.   **First in First out**의 규칙에 따른 리스트의 형태\n",
        "2.   enqueue, dequeue, isEmpty, front, len 등의 연산\n",
        "![Queue.png](data:image/png;base64,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)\n",
        "\n"
      ],
      "metadata": {
        "id": "kkLwRDKHDBF5"
      }
    }
  ]
}