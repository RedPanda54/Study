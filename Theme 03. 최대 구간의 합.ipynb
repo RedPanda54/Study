{
  "nbformat": 4,
  "nbformat_minor": 0,
  "metadata": {
    "colab": {
      "provenance": [],
      "authorship_tag": "ABX9TyMz9+HfQiUvAxwSTT1o68nh",
      "include_colab_link": true
    },
    "kernelspec": {
      "name": "python3",
      "display_name": "Python 3"
    },
    "language_info": {
      "name": "python"
    }
  },
  "cells": [
    {
      "cell_type": "markdown",
      "metadata": {
        "id": "view-in-github",
        "colab_type": "text"
      },
      "source": [
        "<a href=\"https://colab.research.google.com/github/RedPanda54/Study/blob/main/Theme%2003.%20%EC%B5%9C%EB%8C%80%20%EA%B5%AC%EA%B0%84%EC%9D%98%20%ED%95%A9.ipynb\" target=\"_parent\"><img src=\"https://colab.research.google.com/assets/colab-badge.svg\" alt=\"Open In Colab\"/></a>"
      ]
    },
    {
      "cell_type": "markdown",
      "source": [
        "## **최대 구간의 합**"
      ],
      "metadata": {
        "id": "JnhDeuW36LWi"
      }
    },
    {
      "cell_type": "markdown",
      "source": [
        "(문제)<br>\n",
        "<div>수많은 군소 국가들이 난립하던 시기에 광개토대왕이 나타나서 세계를 정복했다. 광개토대왕의 부하로는 심복장군이 있었는데, 광개토대왕은 세계를 정복한 후에 심복장군에게도 일부의 땅을 하사하기로 했다.</div>\n",
        "<div>\n",
        "광개토대왕은 자신이 정복한 세계를 가로 한 줄의 격자 모양의 구역으로 나누었고, 각각의 구역에 있는 숫자는 각 구역에서 걷히는 세금을 나타낸다. 심복장군은 이 구역들 중에서 <b>임의의 연속된 구간</b>을 하사 받을 수 있다. 욕심이 많은 심복장군은 세금이 가장 많이 걷히는 구간을 받으려고 한다.</div><br>\n",
        "<ul>\n",
        "<li>입력\n",
        "    <ol>\n",
        "        <li>첫 줄에 격자의 가로 길이 col이 주어진다. (1 <= col <= 100)</li>\n",
        "        <li>두 번째 줄에는 col개의 정수들이 주어진다.</li>\n",
        "        <ul>\n",
        "            <li>각 구역에서 걷힌 세금을 의미하며, -99 ~ 99 사이의 정수이다.</li>\n",
        "            <li>각 숫자의 뒤에는 한 개의 공백이 있다.</li>\n",
        "    </ol>\n",
        "<li>출력</li>\n",
        "    <ul>\n",
        "        <li>심복장군이 세금을 최대로 걷을 수 있도록 구간을 선택했을 때, 그 최대 세금을 출력하라.</li>\n",
        "        <li>모든 구역의 세금이 음수라면, 정답도 음수일 수 있다. 즉, 땅을 하사 받는 것을 포기하는 것은 불가능하다.</li>\n",
        "    </ul>\n",
        "</ul>"
      ],
      "metadata": {
        "id": "BeyYnaCT6QnY"
      }
    },
    {
      "cell_type": "markdown",
      "source": [
        "(예시) <br>\n",
        "만약에 [-1, 6, -4, 2, -1 15, -9, 7]에서 선택한다고 하면, 6에서 15의 연속 구간을 구하면 심복장군이 18의 최대 이익을 가질 수 있다."
      ],
      "metadata": {
        "id": "GnJwCu8oCl7-"
      }
    },
    {
      "cell_type": "code",
      "execution_count": 1,
      "metadata": {
        "colab": {
          "base_uri": "https://localhost:8080/"
        },
        "id": "e1OtFqPn6FJS",
        "outputId": "f27bf09c-a0c2-40f0-cf40-84a748b840ea"
      },
      "outputs": [
        {
          "output_type": "stream",
          "name": "stdout",
          "text": [
            "8\n",
            "-1 6 -4 2 -1 15 -9 7\n",
            "18\n"
          ]
        }
      ],
      "source": [
        "# easy 버전\n",
        "col = int(input())\n",
        "a = [0] * col\n",
        "\n",
        "a = list(map(int, input().split()))\n",
        "max_val = -100 * 10000\n",
        "\n",
        "for i in range(0, col):\n",
        "\tsum_val = 0\n",
        "\tfor j in range(i, col):\n",
        "\t\tsum_val += a[j]\n",
        "\t\tmax_val = max(max_val, sum_val)\n",
        "print(max_val)\n"
      ]
    },
    {
      "cell_type": "markdown",
      "source": [
        "**Medium 버전**\n",
        "\n",
        "입력의 크기가 바뀌었다.<br>\n",
        "col => (1 <= col <= **1,000,000**)<br>"
      ],
      "metadata": {
        "id": "qgBXFUyADS1U"
      }
    },
    {
      "cell_type": "code",
      "source": [
        "# medium 버전\n",
        "col = int(input())\n",
        "a = [0] * col\n",
        "\n",
        "a = list(map(int, input().split()))\n",
        "max_val = -100 * 10000\n",
        "sum_val = 0\n",
        "\n",
        "for i in range(0, col):\n",
        "    # i번째 숫자에서 끝나는 구간의\n",
        "    # 최대합이 sum_val에 저장됨\n",
        "    sum_val += a[i]\n",
        "    max_val = max(max_val, sum_val)\n",
        "\n",
        "    # 0보다 작으면 버린다.\n",
        "    sum_val = max(0, sum_val)\n",
        "print(max_val)"
      ],
      "metadata": {
        "colab": {
          "base_uri": "https://localhost:8080/"
        },
        "id": "PFwg3DLODlXE",
        "outputId": "f1f50311-3dbd-4401-fd41-9de3ceffdc44"
      },
      "execution_count": 2,
      "outputs": [
        {
          "output_type": "stream",
          "name": "stdout",
          "text": [
            "100\n",
            "89 -43 27 73 82 46 -3 62 19 52 16 -87 42 -88 41 74 3 84 83 40 -93 -71 -22 -44 -85 24 68 65 -77 17 88 -59 37 -51 92 -47 39 79 -66 48 -13 -33 96 69 26 13 21 -60 -63 86 72 10 -38 -14 -50 -94 30 53 -20 58 75 -70 -9 54 76 49 -28 -32 90 -98 29 -23 4 61 34 -6 91 -80 55 7 81 -45 85 64 36 -57 12 25 99 -7 97 -34 -1 95 -29 -90 5 -82 -86 11 18 \n",
            "1432\n"
          ]
        }
      ]
    }
  ]
}