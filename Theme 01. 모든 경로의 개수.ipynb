{
  "nbformat": 4,
  "nbformat_minor": 0,
  "metadata": {
    "colab": {
      "provenance": [],
      "authorship_tag": "ABX9TyN58KoC2wIXgM0gt+HO8Wnb",
      "include_colab_link": true
    },
    "kernelspec": {
      "name": "python3",
      "display_name": "Python 3"
    },
    "language_info": {
      "name": "python"
    }
  },
  "cells": [
    {
      "cell_type": "markdown",
      "metadata": {
        "id": "view-in-github",
        "colab_type": "text"
      },
      "source": [
        "<a href=\"https://colab.research.google.com/github/RedPanda54/Study/blob/main/Theme%2001.%20%EB%AA%A8%EB%93%A0%20%EA%B2%BD%EB%A1%9C%EC%9D%98%20%EA%B0%9C%EC%88%98.ipynb\" target=\"_parent\"><img src=\"https://colab.research.google.com/assets/colab-badge.svg\" alt=\"Open In Colab\"/></a>"
      ]
    },
    {
      "cell_type": "markdown",
      "source": [
        "## **모든 경로의 개수**\n"
      ],
      "metadata": {
        "id": "Y4xkVBN1oHYz"
      }
    },
    {
      "cell_type": "markdown",
      "source": [
        "(문제)\n",
        "\n",
        "n 개의 노드를 가지는 방향 그래프가 주어질 때, 출발점과 도착점까지의 모든 경로의 개수를 구하는 프로그램을 만드시오.\n",
        "\n",
        "(입력)\n",
        "1. 첫 줄에 그래프를 구성하는 노드의 개수를 나타내는 자연수 n이 주어진다. (2 <= n <= 10)\n",
        "2. 두 번째 줄에 출발점의 노드 번호를 나타내는 자연수 st가 주어진다. (1 <= st <= n)\n",
        "3. 세 번째 줄에 도착점의 노드 번호를 나타내는 자연수 ed가 주어진다. (1 <= ed <= n, 단 st != ed)\n",
        "4. 네 번째 줄에 그래프의 에지(edge, 간선)의 개수를 나타내는 자연수 k가 주어진다. (1 <= k <= n * (n-1))\n",
        "5. 다섯 번째 줄부터 k개의 줄에는 에지 정보(u v)가 주어진다. u에서 v로 향하는 에지가 있다는 뜻이며, u와 v는 하나의 공백으로 구분된다.\n",
        " - u != v (즉, 자기 자신으로 향하는 에지는 주어지지 않는다.)\n",
        " - 똑같은 에지가 중복되어 주어지지 않는다.\n",
        " - 사이클(Cycle)이 만들어지는 입력은 주어지지 않는다.\n",
        "\n",
        "(출력)\n",
        "\n",
        "출발점과 도착점까지의 모든 경로의 개수를 출력한다. 경로가 존재하지 않는다면, 0을 출력한다.\n",
        "\n",
        "(제한시간)\n",
        "\n",
        "모두 1초"
      ],
      "metadata": {
        "id": "rkIrBqeL_9Iv"
      }
    },
    {
      "cell_type": "markdown",
      "source": [
        "<center>\n",
        "<img src='https://drive.google.com/uc?id=1c5qcNJirINQI-LjZ1aUhs4syYwdazPqh' width=\"450\"/><br>\n",
        "</center>"
      ],
      "metadata": {
        "id": "njGyyRnourAB"
      }
    },
    {
      "cell_type": "markdown",
      "source": [
        "(예제)\n",
        "<br>\n",
        "- 1번 노드가 출발점, 5번 노드가 도착점이라면,\n",
        " - (1 -> 2 -> 5), (1 -> 6 -> 2 -> 5), (1 -> 3 -> 4 -> 5) 총 4개의 경로가 존재.\n",
        " - 따라서, 정답은 4이다.\n",
        "- 만약, 위의 예시에서 5번 노드에서 4번 노드로 향하는 에지가 한 개 더 있다면,\n",
        " - (1 -> 6 -> 4 -> 5), (1 -> 6 -> 4 -> 5 -> 4 -> 5), (1 -> 6 -> 4 -> 5 -> 4 -> 5 -> 4 -> 5 -> ...), 무한 개의 경로가 생긴다.\n",
        " - ease 버전에서는 사이클에 대한 입력은 고려하지 않는다."
      ],
      "metadata": {
        "id": "ZfO722Hc_gJo"
      }
    },
    {
      "cell_type": "code",
      "execution_count": 1,
      "metadata": {
        "id": "mBgq5est_Wk8",
        "colab": {
          "base_uri": "https://localhost:8080/"
        },
        "outputId": "fd6a34b0-95b8-4814-bc3b-b5414688f639"
      },
      "outputs": [
        {
          "output_type": "stream",
          "name": "stdout",
          "text": [
            "6\n",
            "1\n",
            "5\n",
            "8\n",
            "1 2\n",
            "1 6\n",
            "1 3\n",
            "2 5\n",
            "3 4\n",
            "4 5\n",
            "6 2\n",
            "6 4\n",
            "4\n"
          ]
        }
      ],
      "source": [
        "# easy 버전\n",
        "# DFS를 이용한 가장 기본적인 문제.\n",
        "from collections import defaultdict\n",
        "\n",
        "def dfs(node):\n",
        "\tglobal path_count\n",
        "\n",
        "\t# base case\n",
        "\tif node == ed:\n",
        "\t\tpath_count += 1\n",
        "\t\treturn\n",
        "\n",
        "\t# node에서 갈 수 있는 neighbor를 방문한다.\n",
        "\tfor neighbor in graph[node]:\n",
        "\t\tdfs(neighbor)\n",
        "\n",
        "# 입력\n",
        "n = int(input())\t# 노드의 개수\n",
        "st = int(input())\t# 출발점의 노드 번호\n",
        "ed = int(input())\t# 도착점의 노드 번호\n",
        "k = int(input())\t# 그래프의 에지의 개수\n",
        "path_count = 0\n",
        "graph = defaultdict(list)\n",
        "\n",
        "while(k): # 에지의 개수가 k개. k가 점점 감소하면서 될때, False이 되면서 반복문을 탈출.\n",
        "\tk -= 1\n",
        "\tu, v = map(int, input().split())\n",
        "\tgraph[u].append(v)\n",
        "\n",
        "dfs(st)\n",
        "print(path_count)\n"
      ]
    },
    {
      "cell_type": "markdown",
      "source": [
        "Medium 버전\n",
        "\n",
        "- 입력으로 주어지는 n의 범위가 늘어났다.\n",
        "(2 <= n <= 10) => (**2 <= n <= 100**)\n",
        "- 추가적으로, 경로의 개수가 매우 커질수도 있기 때문에, 경로의 개수를 **1,000,000,007**로 나눈 나머지를 출력한다."
      ],
      "metadata": {
        "id": "Km8Ehz1WDh7k"
      }
    },
    {
      "cell_type": "markdown",
      "source": [
        "Easy 단계에서 쓰인 코드가 Medium 버전에서는 시간 초과되어버린다. 입력의 크기가 100까지 늘어났기 때문이다.\n",
        "그렇다면 이 경우에서는 다음의 사고를 가져야 한다.\n",
        "\n",
        "(1) 불필요한 계산을 줄여야겠다. <br>\n",
        "(2) 이미 계산한 내용을 리스트든 딕셔너리든 어떠한 효율적인 자료구조에 저장을 해야한다.<br>\n",
        "(3) 필요한 과정은 무엇일까?\n",
        "-> DP?!"
      ],
      "metadata": {
        "id": "Y3doxJ4vwIqm"
      }
    },
    {
      "cell_type": "code",
      "source": [
        "# medium 버전\n",
        "from collections import defaultdict\n",
        "\n",
        "def get_count_paths(node):\n",
        "\n",
        "\t# 현재의 노드(node)에서 갈 수 있는 인접 노드들(neighbor)에서\n",
        "\t# 도착점까지의 모든 경로의 개수를 더한다.\n",
        "\tdp[node] = 0\n",
        "\tfor neighbor in graph[node]:\n",
        "\t\tif dp[neighbor] == -1:\t# '-1'은 아직 방문하지 않은 노드이기 때문의 계산해줘야 한다.\n",
        "\t\t\tget_count_paths(neighbor)\t# 재귀호출을 통해 계산\n",
        "\n",
        "\t\tdp[node] += dp[neighbor]\n",
        "\t\tdp[node] %= 1000000007\n",
        "\n",
        "# 입력\n",
        "n = int(input())\t# 노드의 개수\n",
        "st = int(input())\t# 출발점의 노드 번호\n",
        "ed = int(input())\t# 도착점의 노드 번호\n",
        "k = int(input())\t# 그래프의 에지의 개수\n",
        "path_count = 0\t  # 경로의 개수\n",
        "graph = defaultdict(list)\t# 인접 리스트: u와 v 노드 사이의 에지를 저장\n",
        "\n",
        "while k:\n",
        "\tk -= 1\n",
        "\tu, v = map(int, input().split())\n",
        "\tgraph[u].append(v)\n",
        "\n",
        "dp = \t[-1] * (n+1)\t# '-1'은 아직 계산되지 않은 노드라는 표시이다.\n",
        "dp[ed] = 1\t# ed단계에서 도착지점까지의 경로는 자기 자신에게 가는 경로니까 1이다.\n",
        "get_count_paths(st)\n",
        "print(dp[st])\n"
      ],
      "metadata": {
        "id": "qdXWhu0U_1YJ",
        "colab": {
          "base_uri": "https://localhost:8080/"
        },
        "outputId": "7153266d-9173-431a-adb6-1fa1cb93a996"
      },
      "execution_count": 3,
      "outputs": [
        {
          "output_type": "stream",
          "name": "stdout",
          "text": [
            "10\n",
            "1\n",
            "10\n",
            "35\n",
            "1 2\n",
            "2 3\n",
            "3 4\n",
            "4 5\n",
            "5 6\n",
            "6 7\n",
            "7 8\n",
            "8 9\n",
            "9 10\n",
            "5 8\n",
            "7 9\n",
            "2 6\n",
            "2 4\n",
            "2 9\n",
            "4 8\n",
            "1 10\n",
            "7 10\n",
            "3 5\n",
            "4 6\n",
            "8 10\n",
            "6 10\n",
            "5 9\n",
            "1 3\n",
            "2 5\n",
            "1 8\n",
            "6 8\n",
            "4 9\n",
            "3 6\n",
            "5 7\n",
            "3 9\n",
            "1 6\n",
            "1 4\n",
            "6 9\n",
            "3 10\n",
            "4 1\n",
            "189\n"
          ]
        }
      ]
    },
    {
      "cell_type": "markdown",
      "source": [
        "Hard 버전\n",
        "\n",
        "- easy 버전에서 다루지 않았던 사이클에 대한 입력도 같이 다룬다.\n",
        "\n",
        "(사이클이란?)\n",
        "세 개의 노드가 있다고 치면 이 세 개의 노드만 순회하는 경로를 의미한다.\n",
        "\n",
        "- 경로가 존재하지 않는다면, 0을 출력한다.\n",
        "- 경로의 개수가 무한 개라면, -1을 출력한다.\n"
      ],
      "metadata": {
        "id": "L6aYKKz4Iz-7"
      }
    },
    {
      "cell_type": "markdown",
      "source": [
        "Hard 단계에서는 노드 사이에 사이클이 존재할 가능성이 생겼다.\n",
        "\n",
        "[논제] <br>\n",
        " (1) 어떻게 사이클이 존재하는지 알 수 있을까?\n",
        "-> 모든 노드에 대한 방문여부를 새로운 boolean 변수에 저장한다.\n",
        "\t 그래서 다음 노드를 방문할 때, 해당 노드가 True라면 이미 방문한 적이 있는 노드이기 때문에\n",
        "\t 사이클이 존재한다고 판단할 수 있다.\n",
        "\n",
        " (2) 사이클이 있어도 경로의 개수를 셀 수 있는 경우가 있다.\n",
        "\t  '-1'을 출력해야 되는 경우는 어떻게 걸러낼 수 있을까?<br>\n",
        "-> 그래프에 대해 사이클이 존재하는 방식은 여러가지가 있다.\n",
        "\n",
        "\t 예를 들어, 도착점이 사이클 내에 존재한다던지, 사이클을 포함한 부분 그래프가 따로 존재한다던지 등등\n",
        "\t 경로의 개수를 셀 수 있는 경우가 있고, 없는 경우가 있다.\n",
        "\t 일차적으로 도착점까지 갈 수 있는 노드를 역방향 그래프를 통해 찾아내서 예시의 후자같은 케이스를 배제하고,\n",
        "\t 출발점에서 도착점까지의 경로에 사이클이 존재하는 경우를 visited로 찾아내 -1을 출력하게 하는 것이다."
      ],
      "metadata": {
        "id": "pQg16KcOwUuV"
      }
    },
    {
      "cell_type": "code",
      "source": [
        "from collections import defaultdict\n",
        "\n",
        "global result\n",
        "\n",
        "# 역방향 그래프를 이용해서 도착점까지 갈 수 있는\n",
        "# 노드들을 cango_ed 리스트에 표시한다.\n",
        "def dfs(node):\n",
        "\tcango_ed[node] = True\n",
        "\tfor neighbor in graph_reverse[node]:\n",
        "\t\tif not cango_ed[neighbor]:\n",
        "\t\t\tdfs(neighbor)\n",
        "\n",
        "# node에서 시작해서 도착점까지의\n",
        "# 모든 경로의 개수를 구하는 함수\n",
        "def get_count_paths(node):\n",
        "\tglobal result\n",
        "\t# 방문했던 노드를 다시 방문했다면, 사이클이 생긴 것이다.\n",
        "\tif visited[node]:\n",
        "\t\tresult = -1\n",
        "\t\treturn\n",
        "\n",
        "\t# 예전에 처리했던 노드라면, 기존의 계산했던 값을 이용한다.\n",
        "\tif dp[node] != -1:\n",
        "\t\treturn\n",
        "\n",
        "\t# 현재의 노드(node)에서 갈 수 있는 인접 노드들(neighbor)에서\n",
        "\t# 도착점까지의 모든 경로의 개수를 더한다.\n",
        "\tdp[node] = 0\n",
        "\tvisited[node] = True\n",
        "\tfor neighbor in graph[node]:\n",
        "\t\tif cango_ed[neighbor]:\n",
        "\t\t\tget_count_paths(neighbor)\n",
        "\t\t\tdp[node] += dp[neighbor]\n",
        "\t\t\tdp[node] %= 1000000007\n",
        "\n",
        "\tvisited[node] = False\n",
        "\n",
        "n = int(input())\t# 노드의 개수\n",
        "st = int(input())\t# 출발점의 노드 번호\n",
        "ed = int(input())\t# 도착점의 노드 번호\n",
        "k = int(input())\t# 그래프의 에지의 개수\n",
        "\n",
        "graph = defaultdict(list)\n",
        "graph_reverse = defaultdict(list)\n",
        "\n",
        "while(k):\n",
        "\tk -= 1\n",
        "\tu, v = map(int, input().split())\n",
        "\t# 그래프 (인접 리스트)\n",
        "\tgraph[u].append(v)\n",
        "\n",
        "\t# 역방향 그래프\n",
        "\tgraph_reverse[v].append(u)\n",
        "\n",
        "# cango_ed라는 boolean을 저장한 리스트에는 도착점까지의 경로 유무를 저장한다.\n",
        "# cango_ed[i] = True :  i번 노드에서 도착점까지 가는 경로가 있는 경우\n",
        "# cango_ed[i] = False : i번 노드에서 도착점까지 가는 경로가 없는 경우\n",
        "cango_ed = [False] * (n + 1)\n",
        "dfs(ed)\n",
        "\n",
        "# dp[i] = i번 노드에서 도착점(ed)까지의 모든 경로의 개수\n",
        "dp = [-1] * (n + 1)\n",
        "dp[ed] = 1\n",
        "\n",
        "result = 0\n",
        "visited = [False] * (n + 1)\n",
        "get_count_paths(st)\n",
        "\n",
        "if result != 0:\n",
        "\tdp[st] = result\n",
        "print(dp[st])\n",
        "1\n"
      ],
      "metadata": {
        "id": "rx_eNkRr_4nW",
        "colab": {
          "base_uri": "https://localhost:8080/"
        },
        "outputId": "195e80a7-5234-434b-912a-d84f8ed02d3b"
      },
      "execution_count": 5,
      "outputs": [
        {
          "output_type": "stream",
          "name": "stdout",
          "text": [
            "4\n",
            "1\n",
            "4\n",
            "6\n",
            "1 2\n",
            "2 3\n",
            "3 1\n",
            "4 1\n",
            "2 4\n",
            "4 3\n",
            "-1\n"
          ]
        }
      ]
    }
  ]
}