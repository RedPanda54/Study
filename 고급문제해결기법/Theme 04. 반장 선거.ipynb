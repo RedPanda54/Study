{
  "nbformat": 4,
  "nbformat_minor": 0,
  "metadata": {
    "colab": {
      "provenance": [],
      "authorship_tag": "ABX9TyMVswscMMYEKVjW/3EikgCC",
      "include_colab_link": true
    },
    "kernelspec": {
      "name": "python3",
      "display_name": "Python 3"
    },
    "language_info": {
      "name": "python"
    }
  },
  "cells": [
    {
      "cell_type": "markdown",
      "metadata": {
        "id": "view-in-github",
        "colab_type": "text"
      },
      "source": [
        "<a href=\"https://colab.research.google.com/github/RedPanda54/Study/blob/main/Theme%2004.%20%EB%B0%98%EC%9E%A5%20%EC%84%A0%EA%B1%B0.ipynb\" target=\"_parent\"><img src=\"https://colab.research.google.com/assets/colab-badge.svg\" alt=\"Open In Colab\"/></a>"
      ]
    },
    {
      "cell_type": "markdown",
      "source": [
        "## **반장 선거**"
      ],
      "metadata": {
        "id": "zBvjFjvRca0w"
      }
    },
    {
      "cell_type": "markdown",
      "source": [
        "(문제)<br>\n",
        "<div>\n",
        "어떤 학급에서 반장 선거를 진행하고자 한다. 모든 학생들이 자신이 원하는 반장 후보의 이름을 적어내고, 과반을 <b>초과</b>하는 득표자가 있는 경우에 그 학생이 반장으로 선출된다. 과반을 초과하는 득표자가 없는 경우에는 반장이 선출되지 않는다.\n",
        "</div>\n",
        "\n",
        "<ul>\n",
        "    <li>입력</li>\n",
        "        <ol>\n",
        "            <li>첫 줄에 전체 학생 수를 나타내는 자연수 n이 주어진다. (1 <= n <= 100)</li>\n",
        "            <li>두 번째 줄부터 n개의 줄에는 학생들이 적어낸 이름(name)이 주어진다. 단, name은 알파벳 대/소문자로만 구성된 길이 1 이상 10 이하의 문자열이다.</li>\n",
        "        </ol>\n",
        "    <li>출력</li>\n",
        "        <ul>\n",
        "            <li>반장으로 당선된 학생이 있는 경우, 이름을 출력한다. 단, 학생의 이름은 대/소문자를 구별한다. 가령, \"Minho\"와 \"minho\"는 다른 사람으로 간주한다.</li>\n",
        "            <li>반장으로 당선된 학생이 없는 경우, \"-1\"을 출력한다.</li>\n",
        "        </ul>\n",
        "</ul>\n",
        "\n",
        "(예시 1)<br>\n",
        "<div>\n",
        "5명의 학생으로부터 반장 선거를 진행하니 과반수를 차지한 \"Minho\"가 뽑혔다.\n",
        "</div>\n",
        "\n",
        "(예시 2)<br>\n",
        "<div>\n",
        "6명이서 반장 선거를 진행했는데 득표가 각각 3표씩이었다. 이런 경우 반장을 뽑을 수 없기 때문에 '-1'을 출력한다.\n",
        "</div>\n",
        "\n",
        "\n"
      ],
      "metadata": {
        "id": "F6axi2r4cdEC"
      }
    },
    {
      "cell_type": "code",
      "execution_count": 2,
      "metadata": {
        "colab": {
          "base_uri": "https://localhost:8080/"
        },
        "id": "fG8jGRnAcXAJ",
        "outputId": "1598793b-257d-4134-fbd4-2791866c8984"
      },
      "outputs": [
        {
          "output_type": "stream",
          "name": "stdout",
          "text": [
            "6\n",
            "jieun\n",
            "jieun\n",
            "jieun\n",
            "jieuN\n",
            "jieuN\n",
            "jieuN\n",
            "-1\n"
          ]
        }
      ],
      "source": [
        "# easy 버전\n",
        "\n",
        "# 입력\n",
        "n = int(input())\n",
        "names = [input() for _ in range(n)]\n",
        "\n",
        "# 최대 득표자 수\n",
        "# 결정되지 않으면 그대로 \"-1\"을 출력.\n",
        "candidate = \"-1\"\n",
        "\n",
        "for name in names:\n",
        "\tfreq = 0\n",
        "\tfor i in names:\n",
        "\t\tif name == i:\n",
        "\t\t\tfreq += 1\n",
        "\t\tif freq > n // 2:\n",
        "\t\t\tcandidate = name\n",
        "\t\t\tbreak\n",
        "\n",
        "print(candidate)"
      ]
    },
    {
      "cell_type": "markdown",
      "source": [
        "**Medium 버전**"
      ],
      "metadata": {
        "id": "ZEKNBUcmgRZW"
      }
    },
    {
      "cell_type": "markdown",
      "source": [
        "입력의 크기가 늘어났다. <br>\n",
        "전체 학생 수를 나타내는 **자연수 n (1 <= n <= 100,000)**"
      ],
      "metadata": {
        "id": "XVMpEIfdgWPg"
      }
    },
    {
      "cell_type": "markdown",
      "source": [
        "(해결법 1) Dictionary <br>\n",
        "<div>\n",
        "name을 순서대로 확인하면서 Dictionary에 넣어주는 방법이다. 이러면 어떤 사람에 대한 득표수가 몇 개가 나왔는데 쉽게 확인할 수 있다. 매우 효율적인 방법!\n",
        "</div>"
      ],
      "metadata": {
        "id": "DnNhIY9Sgy1X"
      }
    },
    {
      "cell_type": "code",
      "source": [
        "# medium 버전_Dictionary\n",
        "n = int(input())\n",
        "names = [input() for _ in range(n)]\n",
        "\n",
        "#득표수 카운트\n",
        "counts = {}\n",
        "for name in names:\n",
        "\tcounts[name] = counts.get(name, 0) + 1\n",
        "\n",
        "candidate = \"-1\"\n",
        "\n",
        "#과반을 초과하는 후보 찾기\n",
        "for name, count in counts.items():\n",
        "\tif count > len(names) // 2:\n",
        "\t\tcandidate = name\n",
        "\t\tbreak\n",
        "\n",
        "print(candidate)"
      ],
      "metadata": {
        "id": "XabaWj4Ygfbv"
      },
      "execution_count": null,
      "outputs": []
    },
    {
      "cell_type": "markdown",
      "source": [
        "(해결법 2) Sorting <br>\n",
        "<div>\n",
        "만약에 Dictionary를 다루는 방법이 생각이 안나면 어떻게 할까?? 정렬을 사용하는 방법도 있다!! sort()라는 함수를 사용하면 문자열이 사전순으로 정렬이 될 것이고, 순서대로 탐색하면서 과반수 득표를 했는지의 여부를 확인한다면 이것도 정답이 된다.\n",
        "</div>"
      ],
      "metadata": {
        "id": "0km096Y2hYXQ"
      }
    },
    {
      "cell_type": "code",
      "source": [
        "# medium 버전_Sorting\n",
        "n = int(input())\n",
        "names = [input() for _ in range(n)]\n",
        "\n",
        "names.sort()    # 투표된 이름을 사전순 정렬\n",
        "candidate = \"-1\"\n",
        "\n",
        "for left in range(n):\n",
        "\tright = left + n // 2   # 과반수 득표를 확인하기 위함\n",
        "\tif right >= n:\n",
        "\t\tbreak\n",
        "\tif names[left] == names[right]:\n",
        "\t\tcandidate = names[left]\n",
        "\t\tbreak\n",
        "\n",
        "print(candidate)\n"
      ],
      "metadata": {
        "id": "asf0TFNQhvgg"
      },
      "execution_count": null,
      "outputs": []
    },
    {
      "cell_type": "markdown",
      "source": [
        "(해결법 3) Scan <br>\n",
        "<div>\n",
        "그럼에도 불구하고 어떤 얌체같은 회사가 코딩테스트에서 Dictionary와 정렬을 사용하지 않고 코드를 제출하라고 했다면 어떻게 해야될까?? 물론 그런 일이 거의 없겠지만 다음의 코드를 참고하길 바란다.\n",
        "</div>"
      ],
      "metadata": {
        "id": "gn3T6Z-qim9t"
      }
    },
    {
      "cell_type": "code",
      "source": [
        "# medium 버전_Scanning\n",
        "n = int(input())\n",
        "names = [input() for _ in range(n)]\n",
        "count = 0\n",
        "\n",
        "for name in names:\n",
        "\tif count == 0:\n",
        "\t\tcandidate = name\n",
        "\t\tcount += 1\n",
        "\telse:\n",
        "\t\tif candidate == name:\n",
        "\t\t\tcount += 1\n",
        "\t\telse:\n",
        "\t\t\tcount -= 1\n",
        "\n",
        "if names.count(candidate) <= n // 2:\n",
        "\tcandidate = \"-1\"\n",
        "\n",
        "print(candidate)\n"
      ],
      "metadata": {
        "id": "fM-mww0FimDs"
      },
      "execution_count": null,
      "outputs": []
    },
    {
      "cell_type": "markdown",
      "source": [
        "<코드 설명><br>\n",
        "(가정) 과반 득표수를 받은 후보자가 존재한다.<br>\n",
        "(ex) 2 7 6 7 7 6 7\n",
        "<ol>\n",
        "<li>names의 가장 앞을 유력 후보자라고 가정한다.</li>\n",
        "<li>과반 득표수를 받은 유력 후보자가 존재한다면, 그의 투표수를 나머지 떨이들이랑 하나씩 소거를 해도 어떻게든 그 후보자의 투표수가 적어도 하나는 남을 것이다. 즉, 과반수만 넘는다면 어떻게든 그 후보자가 이긴다는 말이다.</li>\n",
        "<li>최종적으로 count가 0이 아닌 후보자가 반장으로 선출이 된다.</li>\n",
        "<li>단, 과반 투표수가 넘지 않았음에도 어떤 후보의 count가 0이 아닌 경우가 있을 수도 있다. 그런 경우를 마지막 조건문을 통해 걸러낸다.</li>\n",
        "</ol><br>\n",
        "(예외) 2 1 3 4 2 7 7 7 7 <br>\n",
        "마지막 '7'이라는 이름의 후보자가 과반 투표수를 받지 않았음에도, count가 0이 되지 않는다. 이러면 잘못된 답안이기 때문에 마지막 조건문이 필수."
      ],
      "metadata": {
        "id": "2ty-gTOvi-8h"
      }
    },
    {
      "cell_type": "markdown",
      "source": [
        "**Hard 버전**"
      ],
      "metadata": {
        "id": "OBkvlne_wS3t"
      }
    },
    {
      "cell_type": "markdown",
      "source": [
        "(출력)<br>\n",
        "<ul>\n",
        "<li>반장으로 당선된 학생이 있는 경우, 이름을 출력한다. 단, <b>학생의 이름은 대/소문자를 구별하지 않는다.</b> 즉, \"jieun\"과 \"jieuN\"는 같은 사람이라고 간주한다.</li>\n",
        "<li>반장으로 당선된 학생이 없는 경우, \"-1\"을 출력한다.</li>\n",
        "</ul>"
      ],
      "metadata": {
        "id": "_Upde5iPwYwa"
      }
    },
    {
      "cell_type": "markdown",
      "source": [
        "해결법은 medium 버전과 마찬가지로 세 가지가 있다."
      ],
      "metadata": {
        "id": "HOLtTA_RxKy6"
      }
    },
    {
      "cell_type": "code",
      "source": [
        "# Hard 버전_Dictionary\n",
        "n = int(input())\n",
        "names = [input() for _ in range(n)]\n",
        "names_low = [name.lower() for name in names]\n",
        "\n",
        "#득표수 카운트\n",
        "counts = {}\n",
        "for name in names_low:\n",
        "\tcounts[name] = counts.get(name, 0) + 1\n",
        "\n",
        "candidate = \"-1\"\n",
        "\n",
        "#과반을 초과하는 후보 찾기\n",
        "for name, count in counts.items():\n",
        "\tif count > len(names_low) // 2:\n",
        "\t\tcandidate = name\n",
        "\t\tbreak\n",
        "\n",
        "if candidate != \"-1\":\n",
        "\t#실제로 처음 출현한 이름으로 바꿔줘야 한다.\n",
        "\tfor name in names:\n",
        "\t\tif candidate == name.lower():\n",
        "\t\t\tcandidate = name\n",
        "\t\t\tbreak\n",
        "\n",
        "print(candidate)\n"
      ],
      "metadata": {
        "id": "8zYYLvCljYgm"
      },
      "execution_count": null,
      "outputs": []
    },
    {
      "cell_type": "code",
      "source": [
        "# Hard 버전_Sorting\n",
        "n = int(input())\n",
        "names = [input() for _ in range(n)]\n",
        "names_low = [name.lower() for name in names]\n",
        "\n",
        "names_low.sort()\n",
        "candidate = \"-1\"\n",
        "\n",
        "for left in range(n):\n",
        "\tright = left + n // 2\n",
        "\tif right >= n:\n",
        "\t\tbreak\n",
        "\tif names_low[left] == names_low[right]:\n",
        "\t\tcandidate = names_low[left]\n",
        "\t\tbreak\n",
        "\n",
        "if candidate != \"-1\":\n",
        "\t#실제로 처음 출현한 이름으로 바꿔줘야 한다.\n",
        "\tfor name in names:\n",
        "\t\tif candidate == name.lower():\n",
        "\t\t\tcandidate = name\n",
        "\t\t\tbreak\n",
        "\n",
        "print(candidate)\n"
      ],
      "metadata": {
        "id": "b11XAftKw_9G"
      },
      "execution_count": null,
      "outputs": []
    },
    {
      "cell_type": "code",
      "source": [
        "# Hard 버전_Scanning\n",
        "n = int(input())\n",
        "names = [input() for _ in range(n)]\n",
        "names_low = [name.lower() for name in names]\t# 대소문자를 구분하지 않기 때문에 새로이 추가\n",
        "\n",
        "count = 0\n",
        "\n",
        "# 새롭게 추가한 names 리스트를 활용\n",
        "for name in names_low:\n",
        "\tif count == 0:\n",
        "\t\tcandidate = name\n",
        "\t\tcount = 1\n",
        "\telse:\n",
        "\t\tif candidate == name:\n",
        "\t\t\tcount += 1\n",
        "\t\telse:\n",
        "\t\t\tcount -= 1\n",
        "\n",
        "if names_low.count(candidate) <= n // 2:\t# 과반수가 넘지 않으면 반장이 될 수 없다.\n",
        "\tcandidate = \"-1\"\n",
        "else:\t# 먼저 출현한 후보자의 이름을 출력해야 한다.\n",
        "\tfor name in names:\n",
        "\t\tif candidate == name.lower():\n",
        "\t\t\tcandidate = name\n",
        "\t\t\tbreak\n",
        "\n",
        "print(candidate)"
      ],
      "metadata": {
        "id": "kKW00izvxEs9"
      },
      "execution_count": null,
      "outputs": []
    }
  ]
}
