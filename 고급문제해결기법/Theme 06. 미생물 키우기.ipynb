{
  "nbformat": 4,
  "nbformat_minor": 0,
  "metadata": {
    "colab": {
      "private_outputs": true,
      "provenance": [],
      "authorship_tag": "ABX9TyM8q1gno9sP33W4ZAbZ+rQa",
      "include_colab_link": true
    },
    "kernelspec": {
      "name": "python3",
      "display_name": "Python 3"
    },
    "language_info": {
      "name": "python"
    }
  },
  "cells": [
    {
      "cell_type": "markdown",
      "metadata": {
        "id": "view-in-github",
        "colab_type": "text"
      },
      "source": [
        "<a href=\"https://colab.research.google.com/github/RedPanda54/Study/blob/main/Theme%2006.%20%EB%AF%B8%EC%83%9D%EB%AC%BC%20%ED%82%A4%EC%9A%B0%EA%B8%B0.ipynb\" target=\"_parent\"><img src=\"https://colab.research.google.com/assets/colab-badge.svg\" alt=\"Open In Colab\"/></a>"
      ]
    },
    {
      "cell_type": "markdown",
      "source": [
        "## **미생물 키우기**"
      ],
      "metadata": {
        "id": "lKFF4U69qf1r"
      }
    },
    {
      "cell_type": "markdown",
      "source": [
        "(문제)<br>\n",
        "* <div>\n",
        "어느 생물 실험실에서는 여러 종의 미생물을 키우고 있다. 각 미생물들은 각자의 비커에서 키워지는데, 각기 적당한 온도를 유지해 주어야만 살 수 있다.\n",
        "</div>\n",
        "* <div>\n",
        "각 미생물이 살 수 있는 최저 온도와 최고 온도가 있다. 이 미생물 비커들을 냉장고에 보관해야 하는데, 냉장고 내부는 항상 일정한 온도가 유지되도록 고정되어 있다. 따라서 냉장고 내부의 온도에서 생존할 수 있는 미생물들만이 냉장고에 보관할 수 있다. 또, 냉장고는 크기가 있으므로 무한정 많이 저장할 수는 없고, 최대 몇 개의 비커까지 넣을 수 있는지 그 수가 정해져 있다.\n",
        "</div>\n",
        "* <div>\n",
        "최소한의 냉장고를 사용해서 모든 미생물들을 보관하고 싶다. 이를 찾는 프로그램을 작성하시오.\n",
        "</div>"
      ],
      "metadata": {
        "id": "6-sy-EyYqhsx"
      }
    },
    {
      "cell_type": "markdown",
      "source": [
        "<ul>\n",
        "<li>입력</li>\n",
        "    <ol>\n",
        "        <li>첫 줄에 미생물의 개수 n이 주어진다. (1 <= n <= 5,000)</li>\n",
        "        <li>두 번째 줄에 한 냉장고에 보관할 수 있는 capacity가 주어진다. (1 <= capacity <= n)</li>\n",
        "        <li>세 번째 줄부터 n개의 줄에 각 미생물이 살 수 잇는 최저 온도와 최고 온도가 하나의 공백으로 구분되어 입력도니다.</li>\n",
        "        -> 온도의 범위는 [-100.00, 100.00]이며, 소수점 이하 두 자리까지만 입력이 주어진다.\n",
        "    </ol>\n",
        "<li>출력</li>\n",
        "    <ul>\n",
        "        <li>필요한 최소한의 냉장고 개수를 출력한다.</li>\n",
        "    </ul>\n",
        "</ul>"
      ],
      "metadata": {
        "id": "H3o7LfVMrPOw"
      }
    },
    {
      "cell_type": "code",
      "execution_count": null,
      "metadata": {
        "id": "YRvHSRNkqc2A"
      },
      "outputs": [],
      "source": [
        "n = int(input())\n",
        "capacity = int(input())\n",
        "bio = []\n",
        "\n",
        "for _ in range(n):\n",
        "\tt1, t2 = map(float, input().split())\n",
        "\tbio.append((int(t1 * 100), int(t2 * 100)))\n",
        "\n",
        "# 생물을 살 수 있는 최대 온도를 기준으로 오름차순 정렬\n",
        "bio.sort(key=lambda x: x[1])\n",
        "result = 0\n",
        "inserted = [False] * n\n",
        "\n",
        "while True:\n",
        "\n",
        "\t# 아직까지 냉장고에 들어가지 않는 생물 중에 생존 가능 최대 온도가\n",
        "\t# 가장 작은 생물을 선택하여 냉장고를 만든다.\n",
        "\t# 냉장고의 온도는 선택된 생물의 생존 가능 최대 온도이다.\n",
        "\tselected = -1\n",
        "\tfor j in range(n):\n",
        "\t\tif not inserted[j]:\n",
        "\t\t\tselected = j\n",
        "\t\t\tbreak\n",
        "\tif selected == -1:\n",
        "\t\tbreak\n",
        "\n",
        "\tinserted[selected] = True\n",
        "\tresult += 1\n",
        "\toccu = 1\n",
        "\n",
        "\t# 냉장고의 온도를 셋팅함\n",
        "\ttemper = bio[selected][1]\n",
        "\n",
        "\tfor j in range(selected + 1, n):\n",
        "\t\tif occu >= capacity: #용량이 다 찾다면..\n",
        "\t\t\tbreak\n",
        "\t\tif inserted[j]:\n",
        "\t\t\tcontinue\n",
        "\t\t# j번 생물을 현재 만든 냉장고에 넣을 수 없다면\n",
        "\t\tif temper < bio[j][0] or temper > bio[j][1]:\n",
        "\t\t\tcontinue\n",
        "\t\toccu += 1\n",
        "\t\tinserted[j] = True\n",
        "print(result)"
      ]
    }
  ]
}
