{
  "nbformat": 4,
  "nbformat_minor": 0,
  "metadata": {
    "colab": {
      "provenance": [],
      "authorship_tag": "ABX9TyMIZcRBttnEKAqKCZHKTctj",
      "include_colab_link": true
    },
    "kernelspec": {
      "name": "python3",
      "display_name": "Python 3"
    },
    "language_info": {
      "name": "python"
    }
  },
  "cells": [
    {
      "cell_type": "markdown",
      "metadata": {
        "id": "view-in-github",
        "colab_type": "text"
      },
      "source": [
        "<a href=\"https://colab.research.google.com/github/RedPanda54/Study/blob/main/Theme%2002.%20%EB%A1%9C%EB%B4%87%20%EC%9D%B4%EB%8F%99.ipynb\" target=\"_parent\"><img src=\"https://colab.research.google.com/assets/colab-badge.svg\" alt=\"Open In Colab\"/></a>"
      ]
    },
    {
      "cell_type": "markdown",
      "source": [
        "## **로봇 이동**"
      ],
      "metadata": {
        "id": "phHlqNvIQK21"
      }
    },
    {
      "cell_type": "markdown",
      "source": [
        "Easy 버전"
      ],
      "metadata": {
        "id": "dXHLWD4gPK9c"
      }
    },
    {
      "cell_type": "markdown",
      "source": [
        "(문제)\n",
        "\n",
        "n * n 크기의 방이 있고, 그 안은 1 * 1 크기의 작은 정사각형들로 나뉘어 있는데, 이 방들은 검은색이거나 흰색이다. 흰 정사각형은 로봇이 갈 수 있는 곳이고 검은 정사각형은 막힌 곳이다. 로봇은 현재 위치해 있는 흰 정사각형에서 상하좌우 네 방향 중 하나에 인접한 흰 정사각형으로만 갈 수 있다.\n",
        "\n",
        "로봇이 도착점에서 출발점까지 가는데 필요한 최소 이동 횟수를 구해서 출력하라.\n",
        "\n",
        "단, 출발점은 최상단 왼쪽 (1, 1) 정사각형, 도착점은 최하단 오른쪽 (n, n) 정사각형으로 고정된다.\n",
        "\n",
        "(입력)\n",
        "1. 첫 줄에 방의 크기를 나타내는 정수 n이 주어진다. (2 <= n <= 100)\n",
        "2. 두 번째 줄부터 n개의 줄에는 '0' 또는 '1'로만 이루어진 길이 n인 문자열이 주어진다. '0'은 검은색, '1'은 흰색을 나타낸다.\n",
        "\n",
        "(출력)\n",
        "\n",
        "- 로봇이 출발점에서 도착점까지 가는데 필요한 최소 이동 횟수를 출력한다.\n",
        "- 만약, 로봇이 출발점에서 도착점까지 가는 것이 불가능하다면, -1을 출력한다."
      ],
      "metadata": {
        "id": "gZscWcAqMdxn"
      }
    },
    {
      "cell_type": "markdown",
      "source": [
        "(코드 설명)<br>\n",
        "- 최소 이동 횟수를 찾는다는 것은 최소 경로의 길이를 찾는 것과 같다. 즉, **BFS 알고리즘**을 사용한다면 손쉽게 해결이 가능하다.<br>\n",
        "- 먼저 n * n만큼의 격자를 만들어서 경로의 길이를 추정하고자 한다. 이때, (n+2) * (n+2)로 넓혀잡아서 격자를 만든다. 인덱스와 위치의 숫자를 맞추기 위함인데, 격자에 테두리를 더한다고 생각해도 좋을것 같다.<br>\n",
        "- 0과 1로 이뤄진 입력 문자열에 맞춰 격자를 이분류 시켜준다. 아래의 코드의 경우 MAX와 -MAX로 이분류를 시켜준 것. 이때, 테두리에 해당하는 행과 열은 -MAX로 마킹을 해서 격자를 벗어나지 않게 해준다. 이렇게 설정한 격자의 출발점은 (1, 1), 도착점은 (n, n)이 될 것이다.<br>\n",
        "- Queue를 하나 잡아주고, 이동 방향 directions를 잡아준다. 이 Queue라는 자료구조에는 갈 수 있는 위치가 튜플의 형태로 push가 될 것이고, 앞쪽부터 순서대로 directions 방향으로 나아가면서 최소 경로의 길이를 계산할 것이다.\n",
        "- Queue의 초기값을 출발점 (1, 1)로 잡아 경로를 탐색해 도착점 (n, n)까지 BFS로 경로 탐색해 도착점까지의 최소 경로의 길이를 출력한다. 이때, 여전히 도착점의 숫자가 -MAX라면 도착점까지의 경로가 없다고 판단해 '-1'을 출력한다."
      ],
      "metadata": {
        "id": "UUbEYGra1rSh"
      }
    },
    {
      "cell_type": "code",
      "source": [
        "# easy 버전\n",
        "from collections import deque\n",
        "\n",
        "# 입력\n",
        "n = int(input())\n",
        "\n",
        "# count[i][j] = (i행, j열)에 도달하기 위한 최소 이동 횟수\n",
        "# 갈 수 있는 곳은 MAX값으로 채우고, 못가는 곳은 -MAX값 그대로 둔다.\n",
        "MAX = 10000\n",
        "count = [[-MAX] * (n+2) for _ in range(n+2)]\n",
        "\n",
        "for i in range(1, n+1):\n",
        "\ttemp = input()\n",
        "\tfor j in range(1, n+1):\n",
        "\t\tif temp[j-1] == '1':\t# '1'이면 흰 정사각형. 갈 수 있는 곳이다.\n",
        "\t\t\tcount[i][j] = MAX\n",
        "\n",
        "# Dequeue 선언\n",
        "q = deque()\n",
        "q.append((1, 1))\n",
        "count[1][1] = 0\t# 시작점은 일단 0으로 초기화한다.\n",
        "\n",
        "# 4가지 이동 방향\n",
        "# [아래, 위, 우, 좌]\n",
        "directions = [(1, 0), (-1, 0), (0, 1), (0, -1)]\n",
        "\n",
        "# 큐가 비었거나, 도착점에 도달했으면 루프를 빠져나간다.\n",
        "while len(q) > 0 and count[n][n] == MAX:\n",
        "\tnow_row, now_col = q.popleft()\n",
        "\tnew_count = count[now_row][now_col] + 1\n",
        "\n",
        "\t# 현재 위치에서 4가지 인접 방향으로 방을 살핀다.\n",
        "\t# 아직 MAX라면 방문한 적이 없는 방이라는 것. queue에 넣어준다.\n",
        "\tfor dx, dy in directions:\n",
        "\t\tx, y = now_row, now_col\n",
        "\t\tx += dx\n",
        "\t\ty += dy\n",
        "\t\tif count[x][y] == MAX:\n",
        "\t\t\tcount[x][y] = new_count\n",
        "\t\t\tq.append((x, y))\n",
        "\n",
        "# count[n][n] == MAX 라면??\n",
        "# while이 끝났음에도 도착지가 MAX라면 방문할 경로가 없다는 것이다.\n",
        "print(count[n][n] if count[n][n] != MAX else -1)"
      ],
      "metadata": {
        "colab": {
          "base_uri": "https://localhost:8080/"
        },
        "id": "rEHmh213N64-",
        "outputId": "6e5b2123-73fd-4f0a-81e0-4f7ba1c124c2"
      },
      "execution_count": 3,
      "outputs": [
        {
          "output_type": "stream",
          "name": "stdout",
          "text": [
            "10\n",
            "1001011111\n",
            "1110010110\n",
            "1010111110\n",
            "1111110111\n",
            "0010111111\n",
            "1101111011\n",
            "1110011111\n",
            "1111110101\n",
            "1101101111\n",
            "0110110011\n",
            "18\n"
          ]
        }
      ]
    },
    {
      "cell_type": "markdown",
      "source": [
        "Medium 버전\n",
        "\n",
        "조건은 easy 버전과 같다.\n",
        "\n",
        "이번 문제의 로봇은 직진하는 데에는 시간이 거의 안 걸리지만, 방향을 바꾸기 위해서 우회전/좌회전 하는데 많은 시간이 걸린다. 따라서 로봇을 움직이는데 중요한 점은 되도록 회전 횟수를 줄이는 것이다. 출발점에서 도착점까지의 최소 회전 횟수를 구해서 출력하라.\n",
        "\n",
        "(출력)\n",
        "\n",
        "- 로봇이 출발점에서 도착점까지 가는데 필요한 최소 회전 횟수를 출력한다.\n",
        "- 만약, 로봇이 출발점에서 도착점까지 가는 것이 불가능하다면, -1을 출력한다."
      ],
      "metadata": {
        "id": "BgxN5Q7WPIcm"
      }
    },
    {
      "cell_type": "markdown",
      "source": [
        "![나는 좌회전~ 우회전~.png](data:image/png;base64,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)"
      ],
      "metadata": {
        "id": "uqo7ZWmQP1av"
      }
    },
    {
      "cell_type": "markdown",
      "source": [
        "(예시)<br>\n",
        "- (1, 1) -> (5, 1) -> (5, 3) -> (7, 3) -> (7, 10) -> (10, 10)\n",
        "\n",
        " - 로봇이 출발점(1, 1)에서 아래 방향으로 직진한다.\n",
        " - (5, 1)에서 ***좌회전***하여 직진한다.\n",
        " - (5, 3)에서 ***우회전***하여 직진한다.\n",
        " - (7, 3)에서 ***좌회전***하여 직진한다.\n",
        " - (7, 10)에서 ***우회전***하여 직진하면 도착점 (10, 10)에 이른다.\n",
        " - 따라서, 총 4번의 회전을 하였다."
      ],
      "metadata": {
        "id": "sZVAF8KFzjQQ"
      }
    },
    {
      "cell_type": "markdown",
      "source": [
        "(코드 설명)<br>\n",
        "- easy 버전과 거의 유사하다.<br>\n",
        "- 다만, 이전에는 현재 위치에 지금까지 경로의 길이를 저장했는데, 이번에는 현재 위치에 지금까지의 회전 횟수를 저장한다."
      ],
      "metadata": {
        "id": "BCFu1a-P4tsa"
      }
    },
    {
      "cell_type": "code",
      "source": [
        "# medium 버전\n",
        "from collections import deque\n",
        "\n",
        "MAX = 10000\n",
        "n = int(input())\n",
        "count = [[-MAX] * (n+2) for _ in range(n+2)]\n",
        "\n",
        "for i in range(1, n+1):\n",
        "\ttemp = input()\n",
        "\tfor j in range(1, n+1):\n",
        "\t\tif temp[j-1] == '1':\n",
        "\t\t\tcount[i][j] = MAX\n",
        "\n",
        "q = deque()\n",
        "q.append((1, 1)) # 시작점을 큐에 넣는다.\n",
        "count[1][1] = -1 # 시작점은 일단 -1로 초기화한다.\n",
        "\n",
        "directions = [(1, 0), (-1, 0), (0, 1), (0, -1)]\n",
        "\n",
        "# 큐가 비었거나, 도착점에 도달했으면 루프를 빠져나간다.\n",
        "while len(q) > 0 and count[n][n] == MAX:\n",
        "\tnow_row, now_column = q.popleft()\n",
        "\tnew_count = count[now_row][now_column] + 1\n",
        "\n",
        "\tfor dx, dy in directions:\n",
        "\t\tx, y = now_row, now_column\n",
        "\t\twhile True:\n",
        "\t\t\tx += dx\n",
        "\t\t\ty += dy\n",
        "\t\t\t# 계속 직진하다가 막히면 빠져나간다.\n",
        "\t\t\t# 현재의 회전 횟수보다\n",
        "\t\t\t# 더 작은 값이 들어가 있어도 빠져나간다.\n",
        "\t\t\tif new_count > count[x][y]:\n",
        "\t\t\t\tbreak\n",
        "\n",
        "\t\t\t# 처음 도달한 곳이면 현재의 회전 횟수(c)를\n",
        "\t\t\t# 저장해주고, 그 위치를 큐에 넣는다.\n",
        "\t\t\tif count[x][y] == MAX:\n",
        "\t\t\t\tcount[x][y] = new_count\n",
        "\t\t\t\tq.append((x, y))\n",
        "\n",
        "print(count[n][n] if count[n][n] != MAX else -1)\n"
      ],
      "metadata": {
        "colab": {
          "base_uri": "https://localhost:8080/"
        },
        "id": "lj2Pt4zgPGkA",
        "outputId": "42fb945e-8993-48d5-d216-ce4ef24c2da0"
      },
      "execution_count": 1,
      "outputs": [
        {
          "output_type": "stream",
          "name": "stdout",
          "text": [
            "10\n",
            "1111111011\n",
            "1011111011\n",
            "1000011101\n",
            "1110110111\n",
            "1110111101\n",
            "0011000001\n",
            "0011111111\n",
            "0010001111\n",
            "0101110001\n",
            "1101111101\n",
            "4\n"
          ]
        }
      ]
    }
  ]
}