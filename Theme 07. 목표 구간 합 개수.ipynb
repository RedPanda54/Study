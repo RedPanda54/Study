{
  "nbformat": 4,
  "nbformat_minor": 0,
  "metadata": {
    "colab": {
      "provenance": [],
      "authorship_tag": "ABX9TyNc0j+l9AFN6R/l1ZjCsHd8",
      "include_colab_link": true
    },
    "kernelspec": {
      "name": "python3",
      "display_name": "Python 3"
    },
    "language_info": {
      "name": "python"
    }
  },
  "cells": [
    {
      "cell_type": "markdown",
      "metadata": {
        "id": "view-in-github",
        "colab_type": "text"
      },
      "source": [
        "<a href=\"https://colab.research.google.com/github/RedPanda54/Study/blob/main/Theme%2007.%20%EB%AA%A9%ED%91%9C%20%EA%B5%AC%EA%B0%84%20%ED%95%A9%20%EA%B0%9C%EC%88%98.ipynb\" target=\"_parent\"><img src=\"https://colab.research.google.com/assets/colab-badge.svg\" alt=\"Open In Colab\"/></a>"
      ]
    },
    {
      "cell_type": "markdown",
      "source": [
        "## **목표 구간 합 개수**"
      ],
      "metadata": {
        "id": "uWtpIbFhSXYx"
      }
    },
    {
      "cell_type": "markdown",
      "source": [
        "<ul>\n",
        "<li>\n",
        "n개의 자연수 리스트와 목표 값 k가 입력으로 주어지면, 합이 k가 되는 구간이 몇 개 있는지 구하는 코드를 작성하라.\n",
        "</li>\n",
        "<li>가령, 리스트가 [2, 1, 4, 5, 3, 4, 6, 2]이고 k = 12라면, 합이 k인 구간은 아래와 같이 4개가 있다.\n",
        "</li>\n",
        "    <ul>\n",
        "        <li>[<b>2, 1, 4, 5</b>, 3, 4, 6, 2]</li>\n",
        "        <li>[2, 1, <b>4, 5, 3</b>, 4, 6, 2]</li>\n",
        "        <li>[2, 1, 4, <b>5, 3, 4</b>, 6, 2]</li>\n",
        "        <li>[2, 1, 4, 5, 3, <b>4, 6, 2</b>]</li>\n",
        "    </ul>\n",
        "<li>\n",
        "리스트가 [2, 1, 4, 5, 3, 4, 6, 2]이고 k = 14라면, 합이 k인 구간이 존재하지 않는다.\n",
        "</li>\n",
        "</ul>"
      ],
      "metadata": {
        "id": "3OtKtPN9Sacl"
      }
    },
    {
      "cell_type": "markdown",
      "source": [
        "<ul>\n",
        "<li>입력</li>\n",
        "    <ul>\n",
        "        <li>첫 번째 줄: 리스트의 길이 n과 목표 값 k가 하나의 공백으로 구분되어 주어진다.</li>\n",
        "            <ul>\n",
        "                <li>1 <= n <= 100</li>\n",
        "                <li>1 <= k <= 2,000,000,000</li>\n",
        "            </ul>\n",
        "        <li>두 번째 줄: 리스트를 구성하는 n개의 자연수들이 하나의 공백으로 구분되어 주어진다.</li>\n",
        "            <ul>\n",
        "                <li>리스트를 구성하는 모든 자연수는 20,000 이하이다.</li>\n",
        "            </ul>\n",
        "    </ul>\n",
        "<li>출력</li>\n",
        "    <ul>\n",
        "            <li>합이 k가 되는 구간의 개수를 출력한다.</li>\n",
        "    </ul>\n",
        "<li><b>수행시간</b>: 1초</li>\n",
        "</ul>"
      ],
      "metadata": {
        "id": "WAk-o4HVizN7"
      }
    },
    {
      "cell_type": "markdown",
      "source": [
        "easy 버전\n",
        "\n",
        "조금 직관적으로 생각해보자.\n",
        "<div>\n",
        "리스트의 첫 번째 숫자부터 하나씩 나아가면서 오른쪽으로 합을 더해가면 구할 수 있을 것 같다!!\n",
        "</div>\n",
        "<div>\n",
        "이때, 합이 k가 되면 count를 늘리고, k를 넘는다면 break를 거는 방식으로..!!\n",
        "</div>\n",
        "\n",
        "<div>\n",
        "(시간 복잡도)<br>\n",
        "이중반복문을 통해 답을 구하고자 한다. O(n^2)\n",
        "</div>"
      ],
      "metadata": {
        "id": "B9eLY6L7lAn9"
      }
    },
    {
      "cell_type": "code",
      "execution_count": 2,
      "metadata": {
        "colab": {
          "base_uri": "https://localhost:8080/"
        },
        "id": "W0d9us4vRCtK",
        "outputId": "72f2db25-91d3-40a1-9092-3d79f84a05dd"
      },
      "outputs": [
        {
          "output_type": "stream",
          "name": "stdout",
          "text": [
            "8 12\n",
            "2 1 4 5 3 4 6 2\n",
            "4\n"
          ]
        }
      ],
      "source": [
        "# easy 버전\n",
        "n, k = map(int, input().split())\n",
        "numbers = list(map(int, input().split()))\n",
        "\n",
        "answer = 0\n",
        "for left in range(n):\n",
        "    sum = 0\n",
        "    for right in range(left, n):\n",
        "        sum += numbers[right]\n",
        "        if sum == k:    # 우리가 구하는 목표합.\n",
        "            answer += 1\n",
        "            break\n",
        "        elif sum == k:  # 목표합을 지나쳤다.\n",
        "            break\n",
        "\n",
        "print(answer)"
      ]
    },
    {
      "cell_type": "markdown",
      "source": [
        "medium 버전<br>\n",
        "입력의 n의 크기가 커졌다.\n",
        "<div>\n",
        "1 <= n <= <b>100,000</b>\n",
        "</div>\n",
        "<div>\n",
        "실제 코딩테스트에서 굉장히 유용한 방식은 Two Pointer 방식을 사용한다.\n",
        "</div>\n",
        "<br>\n",
        "<div>\n",
        "left, right라는 포인터 두 개를 잡아 0번 인덱스에서 출발한다. 기본적으로 right를 하나씩 오른쪽 자리로 밀면서 left와 right 사이의 합을 계산하는 것이다.\n",
        "</div>\n",
        "<br>\n",
        "<div>\n",
        "우리는 다음과 같이 합에 대한 경우를 따진다.\n",
        "<ol>\n",
        "<li>합이 목표합 k를 넘은 경우</li>\n",
        "    <ul>\n",
        "        <li>easy 버전에서처럼 당연히 이 경우는 배제한다. 이때, left를 하나 오른쪽으로 밀면서 처리.</li>\n",
        "    </ul>\n",
        "<li>합이 목표합 k에 미치지 못하는 경우</li>\n",
        "    <ul>\n",
        "        <li>다음 숫자를 합에 더하기 위해 right를 하나 오른쪽으로 밀면서 처리</li>\n",
        "    </ul>\n",
        "<li>합이 목표합 k에 부합하는 경우</li>\n",
        "    <ul>\n",
        "        <li>원하는 k값을 찾았다면 left와 right를 동시에 오른쪽으로 밀어 그 다음 경우를 살핀다.</li>\n",
        "    </ul>\n",
        "</ol>\n",
        "</div>\n",
        "<br>\n",
        "<div>\n",
        "(시간 복잡도)<br>\n",
        "아무리 최악의 경우라 하더라도 left와 right는 각각 n번씩만 이동하니 2n번보다 많은 반복이 이뤄지지 않는다. -> O(n)\n",
        "</diV>"
      ],
      "metadata": {
        "id": "OVITMYRsmUCP"
      }
    },
    {
      "cell_type": "code",
      "source": [
        "# medium 버전\n",
        "n, k = map(int, input().split())\n",
        "numbers = list(map(int, input().split()))\n",
        "\n",
        "answer = 0\n",
        "left = right = 0\n",
        "sum = numbers[left]\n",
        "\n",
        "# Two Pointer\n",
        "while left < n and right < n:\n",
        "    if sum > k:\n",
        "        sum -= numbers[left]\n",
        "        left += 1\n",
        "    elif sum < k:\n",
        "        right += 1\n",
        "        if right < n:\n",
        "            sum += numbers[right]\n",
        "    elif sum == k:\n",
        "        answer += 1\n",
        "        sum -= numbers[left]\n",
        "        left += 1\n",
        "        right += 1\n",
        "        if right < n:\n",
        "            sum += numbers[right]\n",
        "\n",
        "print(answer)"
      ],
      "metadata": {
        "colab": {
          "base_uri": "https://localhost:8080/"
        },
        "id": "tjJuv3hUmWnY",
        "outputId": "17ecaf7a-ac2e-4922-da51-f424fd52bf31"
      },
      "execution_count": 3,
      "outputs": [
        {
          "output_type": "stream",
          "name": "stdout",
          "text": [
            "8 6\n",
            "2 1 4 5 3 4 6 2\n",
            "1\n"
          ]
        }
      ]
    }
  ]
}